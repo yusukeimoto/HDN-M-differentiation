{
 "cells": [
  {
   "cell_type": "markdown",
   "metadata": {},
   "source": [
    "<span style=\"font-size: 100%; \">論文“井元佑介, 超双対数に基づく高階微分計算手法の開発と応用, 応用数理, 2024.”における超双対数の行列表示を用いた微分計算の計算例</span>"
   ]
  },
  {
   "cell_type": "markdown",
   "metadata": {},
   "source": [
    "# 超双対数単位と超双対数空間上の関数の定義 "
   ]
  },
  {
   "cell_type": "code",
   "execution_count": 1,
   "metadata": {},
   "outputs": [],
   "source": [
    "# coding: utf-8\n",
    "import numpy as np\n",
    "import math\n",
    "from functools import reduce\n",
    "\n",
    "def Setting(n):\n",
    "    global nHDN\n",
    "    nHDN = n\n",
    "    global HDN\n",
    "    E_11 = np.array([[0, 1], [0, 0]], dtype=float)\n",
    "    I_2 = np.eye(2)\n",
    "    HDN = np.empty(nHDN, dtype=object)\n",
    "    for i in range(nHDN):\n",
    "        kron_list = [E_11 if j == nHDN - i - 1 else I_2 for j in range(nHDN)]\n",
    "        HDN[i] = reduce(np.kron, kron_list)\n",
    "    global ID\n",
    "    ID = np.array(np.eye(2**nHDN))\n",
    "\n",
    "def Deriv(Mat, k):\n",
    "    if 0 <= k <= nHDN:\n",
    "        return Mat[0,2**k-1]\n",
    "    else:\n",
    "        return \"error\"\n",
    "\n",
    "def prod(Mat1,Mat2):\n",
    "    return np.dot(Mat1,Mat2)\n",
    "\n",
    "def const():\n",
    "    return ID\n",
    "\n",
    "\n",
    "def Hini(x):\n",
    "    return  x * ID + np.sum(HDN,axis=0)\n",
    "\n",
    "def Hsin(Mat):\n",
    "    a = Mat[0,0]\n",
    "    Q = Mat-a*ID\n",
    "    val = np.sin(a)*ID\n",
    "    for i in range(nHDN):\n",
    "        val += (Q**(i+1))/math.factorial(i+1)*(\n",
    "            (-1)**(((i+1)//2)%4)*((i+2)%2)*math.sin(a)\n",
    "            +(-1)**((i//2)%4)*(i+1)%2)*math.cos(a)\n",
    "    return  val\n",
    "\n",
    "def Hcos(Mat):\n",
    "    a = Mat[0,0]\n",
    "    Q = Mat-a*ID\n",
    "    val = math.cos(a)*ID\n",
    "    for i in range(nHDN):\n",
    "        val += (Q**(i + 1)) * (\n",
    "                    pow(-1, ((i + 1) // 2) % 4) * ((i + 2) % 2) * math.cos(Mat[0, 0]) + pow(-1, ((i + 2) // 2) % 4) * (\n",
    "                        (i + 1) % 2) * math.sin(Mat[0, 0])) / math.factorial(i + 1)\n",
    "    return  val\n",
    "\n",
    "\n",
    "def Hexp(Mat):\n",
    "    val = math.exp(Mat[0, 0]) * ID\n",
    "    for i in range(nHDN):\n",
    "        val += ((Mat - Mat[0, 0] * ID) ** (i + 1)) * math.exp(Mat[0, 0]) / math.factorial(i + 1)\n",
    "    return  val\n",
    "\n",
    "\n",
    "def Hlog(Mat):\n",
    "    val = math.log(Mat[0, 0]) * ID\n",
    "    for i in range(nHDN):\n",
    "        val += ((Mat - Mat[0, 0] * ID) ** (i + 1)) * (pow(-1, i)) * (Mat[0, 0] ** (-i - 1)) / (i + 1)\n",
    "    return  val\n",
    "\n",
    "\n",
    "def Hpow(Mat, m):\n",
    "    coef = 1\n",
    "    val = math.pow(Mat[0, 0], m) * ID\n",
    "    for i in range(nHDN):\n",
    "        coef *= m-i\n",
    "        val += coef*((Mat - Mat[0, 0] * ID) ** (i + 1)) * math.pow(Mat[0, 0], m - i - 1) / math.factorial(i + 1)\n",
    "    return  val\n",
    "\n",
    "\n",
    "def HiniMult(x,k,Jn):\n",
    "    val = x * ID\n",
    "    for i in range(nHDN):\n",
    "        if Jn[i] == k:\n",
    "            val += HDN[i]\n",
    "    return  val"
   ]
  },
  {
   "cell_type": "markdown",
   "metadata": {},
   "source": [
    "# 常備分\n",
    "$f(x)=\\sin(x) \\cos(x)$ の $x=0$ での高階微分値の計算"
   ]
  },
  {
   "cell_type": "code",
   "execution_count": 2,
   "metadata": {},
   "outputs": [
    {
     "name": "stdout",
     "output_type": "stream",
     "text": [
      "0 -derivative(s)= 0.0\n",
      "1 -derivative(s)= -0.5402372697085075\n",
      "2 -derivative(s)= 0.0\n",
      "3 -derivative(s)= 0.0\n",
      "4 -derivative(s)= 0.0\n",
      "5 -derivative(s)= 0.0\n",
      "6 -derivative(s)= 0.0\n",
      "7 -derivative(s)= 0.0\n",
      "8 -derivative(s)= 0.0\n",
      "9 -derivative(s)= 0.0\n",
      "10 -derivative(s)= 0.0\n"
     ]
    }
   ],
   "source": [
    "# 微分階数 (超双対数の次数)\n",
    "n = 10\n",
    "\n",
    "#　初期設定 (超双対数単位の構成)\n",
    "Setting(n)\n",
    "\n",
    "# 関数の定義\n",
    "def Func(x):\n",
    "    return Hsin(Hini(x))*Hcos(Hini(x))\n",
    "\n",
    "# 変数の値\n",
    "x = 0\n",
    "\n",
    "\n",
    "# 計算結果\n",
    "for i in range(n+1):\n",
    "    print(i,\"-derivative(s)=\",Deriv(Func(x),i))"
   ]
  },
  {
   "cell_type": "markdown",
   "metadata": {},
   "source": [
    "# 偏微分\n",
    "## 付録Bの例\n",
    "\n",
    "$f(x)=e^{\\cos(x_1)+x_2^2}$ の $(x_1,x_2)=(1,1)$ 二階偏微分 $\\partial_1\\partial_2 f(x)$ の計算"
   ]
  },
  {
   "cell_type": "code",
   "execution_count": 3,
   "metadata": {},
   "outputs": [],
   "source": [
    "# 微分する変数のインデックス\n",
    "Jn = [1,2] # ∂x1∂x2\n",
    "n = len(Jn)\n",
    "\n",
    "#　初期設定 (超双対数単位の構成)\n",
    "Setting(n)\n",
    "\n",
    "# 関数の定義\n",
    "def Func(x1,x2):\n",
    "    return Hexp(Hcos(HiniMult(x1,1,Jn))+Hpow(HiniMult(x1,2,Jn),2))\n",
    "\n",
    "# 変数の値\n",
    "x1 = 1\n",
    "x2 = 1"
   ]
  },
  {
   "cell_type": "markdown",
   "metadata": {},
   "source": [
    "行列$\\mathcal{T}_2 f(x+e_1\\otimes\\mathcal{E}_{2,1}+e_2\\otimes\\mathcal{E}_{2,2})$"
   ]
  },
  {
   "cell_type": "code",
   "execution_count": 4,
   "metadata": {},
   "outputs": [
    {
     "data": {
      "text/plain": [
       "array([[ 4.66600062, -2.30393229, 34.99500463,  0.        ],\n",
       "       [ 0.        ,  4.66600062,  0.        , 34.99500463],\n",
       "       [ 0.        ,  0.        ,  4.66600062, -2.30393229],\n",
       "       [ 0.        ,  0.        ,  0.        ,  4.66600062]])"
      ]
     },
     "execution_count": 4,
     "metadata": {},
     "output_type": "execute_result"
    }
   ],
   "source": [
    "Func(x1,x2)"
   ]
  },
  {
   "cell_type": "markdown",
   "metadata": {},
   "source": [
    "二階偏微分 $\\partial_1\\partial_2 f(x) = \\mathfrak{M}_{1,4}[\\mathcal{T}_2 f(x+e_1\\otimes\\mathcal{E}_{2,1}+e_2\\otimes\\mathcal{E}_{2,2})]$ "
   ]
  },
  {
   "cell_type": "code",
   "execution_count": 5,
   "metadata": {},
   "outputs": [
    {
     "data": {
      "text/plain": [
       "0.0"
      ]
     },
     "execution_count": 5,
     "metadata": {},
     "output_type": "execute_result"
    }
   ],
   "source": [
    "Func(x1,x2)[0,3]"
   ]
  },
  {
   "cell_type": "markdown",
   "metadata": {},
   "source": [
    "## 10階偏微分の例\n",
    "\n",
    "$f(x_1,x_2,x_3) = \\exp(\\sin(\\sqrt{x_1}+3x_2)) \\log(\\cos^2(x_3+0.5))$ の偏微分 $\\partial_1^3 \\partial_2^5 \\partial_3^2 f(x_1,x_2,x_3)$"
   ]
  },
  {
   "cell_type": "code",
   "execution_count": 6,
   "metadata": {},
   "outputs": [
    {
     "name": "stdout",
     "output_type": "stream",
     "text": [
      "0 -partial derivative(s)= -0.2520792083298674\n",
      "1 -partial derivative(s)= 0.07323225947950249\n",
      "2 -partial derivative(s)= 0.0\n",
      "3 -partial derivative(s)= 0.0\n",
      "4 -partial derivative(s)= 0.0\n",
      "5 -partial derivative(s)= 0.0\n",
      "6 -partial derivative(s)= 0.0\n",
      "7 -partial derivative(s)= 0.0\n",
      "8 -partial derivative(s)= 0.0\n",
      "9 -partial derivative(s)= 0.0\n",
      "10 -partial derivative(s)= 0.0\n"
     ]
    }
   ],
   "source": [
    "# 微分する変数のインデックス\n",
    "Jn = [1,1,1,2,2,2,2,2,3,3] \n",
    "n = len(Jn)\n",
    "\n",
    "#　初期設定 (超双対数単位の構成)\n",
    "Setting(n)\n",
    "\n",
    "# 関数の定義\n",
    "def MultiFunc(x1,x2,x3):\n",
    "    return prod(Hexp(Hsin(Hpow(HiniMult(x1,1,Jn),1/2)+3.*HiniMult(x2,2,Jn))),Hlog(Hpow(Hcos(HiniMult(x3,3,Jn)),2)+0.5*const()))\n",
    "\n",
    "# values\n",
    "x1 = 0.5*math.pi\n",
    "x2 = 0.25*math.pi\n",
    "x3 = 2.\n",
    "\n",
    "# 計算結果\n",
    "for i in range(n+1):\n",
    "    print(i,\"-partial derivative(s)=\",Deriv(MultiFunc(x1,x2,x3),i))\n"
   ]
  }
 ],
 "metadata": {
  "kernelspec": {
   "display_name": "Python 3",
   "language": "python",
   "name": "python3"
  },
  "language_info": {
   "codemirror_mode": {
    "name": "ipython",
    "version": 3
   },
   "file_extension": ".py",
   "mimetype": "text/x-python",
   "name": "python",
   "nbconvert_exporter": "python",
   "pygments_lexer": "ipython3",
   "version": "3.9.13"
  }
 },
 "nbformat": 4,
 "nbformat_minor": 4
}
