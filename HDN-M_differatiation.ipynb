{
 "cells": [
  {
   "cell_type": "markdown",
   "metadata": {},
   "source": [
    "<span style=\"font-size: 100%; \">論文“井元佑介, 超双対数に基づく高階微分計算手法の開発と応用, 応用数理, 2024.”における超双対数の行列表示を用いた微分計算の計算例</span>"
   ]
  },
  {
   "cell_type": "markdown",
   "metadata": {},
   "source": [
    "# 超双対数単位と超双対数空間上の関数の定義 "
   ]
  },
  {
   "cell_type": "code",
   "execution_count": 12,
   "metadata": {},
   "outputs": [],
   "source": [
    "# coding: utf-8\n",
    "import numpy as np\n",
    "import math\n",
    "from functools import reduce\n",
    "\n",
    "# def Setting(n):\n",
    "#     global nHDN\n",
    "#     nHDN = n\n",
    "#     global HDN\n",
    "#     HDN = [[0 for i in range(nHDN)] for j in range(nHDN)]\n",
    "#     HDN[0][0] = np.matrix([[0, 1], [0, 0]])\n",
    "#     for k in range(nHDN - 1):\n",
    "#         for l in range(k + 1):\n",
    "#             HDN[k + 1][l] = np.matrix([[0 for i in range(pow(2, k + 2))] for j in range(pow(2, k + 2))])\n",
    "#             for i in range(pow(2, k + 1)):\n",
    "#                 for j in range(pow(2, k + 1)):\n",
    "#                     HDN[k + 1][l][i, j] = HDN[k][l][i, j]\n",
    "#                     HDN[k + 1][l][i + pow(2, k + 1), j] = 0.\n",
    "#                     HDN[k + 1][l][i, j + pow(2, k + 1)] = 0.\n",
    "#                     HDN[k + 1][l][i + pow(2, k + 1), j + pow(2, k + 1)] = HDN[k][l][i, j]\n",
    "#         HDN[k + 1][k + 1] = np.matrix([[0 for i in range(pow(2, k + 2))] for j in range(pow(2, k + 2))])\n",
    "#         for i in range(pow(2, k + 1)):\n",
    "#             for j in range(pow(2, k + 1)):\n",
    "#                 if i == j:\n",
    "#                     HDN[k + 1][k + 1][i, j + pow(2, k + 1)] = 1.\n",
    "#     global ID\n",
    "#     ID = np.matrix(np.eye(2**nHDN))\n",
    "\n",
    "\n",
    "\n",
    "def Setting(n):\n",
    "    global nHDN\n",
    "    nHDN = n\n",
    "    global HDN\n",
    "    E_11 = np.array([[0, 1], [0, 0]], dtype=float)\n",
    "    I_2 = np.eye(2)\n",
    "    HDN = np.empty(nHDN, dtype=object)\n",
    "    for i in range(nHDN):\n",
    "        kron_list = [E_11 if j == nHDN - i - 1 else I_2 for j in range(nHDN)]\n",
    "        HDN[i] = reduce(np.kron, kron_list)\n",
    "    global ID\n",
    "    ID = np.array(np.eye(2**nHDN))\n",
    "\n",
    "def Deriv(Mat, k):\n",
    "    if 0 <= k <= nHDN:\n",
    "        return Mat[0,2**k-1]\n",
    "    else:\n",
    "        return \"error\"\n",
    "\n",
    "def prod(Mat1,Mat2):\n",
    "    return np.dot(Mat1,Mat2)\n",
    "\n",
    "def const():\n",
    "    return ID\n",
    "\n",
    "\n",
    "def Hini(x):\n",
    "    return  x * ID + np.sum(HDN,axis=0)\n",
    "\n",
    "\n",
    "\n",
    "def Hsin(Mat):\n",
    "    a = Mat[0,0]\n",
    "    Q = Mat-a*ID\n",
    "    val = np.sin(a)*ID\n",
    "    for i in range(nHDN):\n",
    "        val += (Q**(i+1))/math.factorial(i+1)*(\n",
    "            (-1)**(((i+1)//2)%4)*((i+2)%2)*math.sin(a)\n",
    "            +(-1)**((i//2)%4)*(i+1)%2)*math.cos(a)\n",
    "    return  val\n",
    "\n",
    "def Hcos(Mat):\n",
    "    a = Mat[0,0]\n",
    "    Q = Mat-a*ID\n",
    "    val = math.cos(a)*ID\n",
    "    for i in range(nHDN):\n",
    "        val += (Q**(i + 1)) * (\n",
    "                    pow(-1, ((i + 1) // 2) % 4) * ((i + 2) % 2) * math.cos(Mat[0, 0]) + pow(-1, ((i + 2) // 2) % 4) * (\n",
    "                        (i + 1) % 2) * math.sin(Mat[0, 0])) / math.factorial(i + 1)\n",
    "    return  val\n",
    "\n",
    "\n",
    "def Hexp(Mat):\n",
    "    val = math.exp(Mat[0, 0]) * ID\n",
    "    for i in range(nHDN):\n",
    "        val += ((Mat - Mat[0, 0] * ID) ** (i + 1)) * math.exp(Mat[0, 0]) / math.factorial(i + 1)\n",
    "    return  val\n",
    "\n",
    "\n",
    "def Hlog(Mat):\n",
    "    val = math.log(Mat[0, 0]) * ID\n",
    "    for i in range(nHDN):\n",
    "        val += ((Mat - Mat[0, 0] * ID) ** (i + 1)) * (pow(-1, i)) * (Mat[0, 0] ** (-i - 1)) / (i + 1)\n",
    "    return  val\n",
    "\n",
    "\n",
    "def Hpow(Mat, m):\n",
    "    coef = 1\n",
    "    val = math.pow(Mat[0, 0], m) * ID\n",
    "    for i in range(nHDN):\n",
    "        coef *= m-i\n",
    "        val += coef*((Mat - Mat[0, 0] * ID) ** (i + 1)) * math.pow(Mat[0, 0], m - i - 1) / math.factorial(i + 1)\n",
    "    return  val\n",
    "\n",
    "\n",
    "def HiniMult(x,k,Jn):\n",
    "    val = x * ID\n",
    "    for i in range(nHDN):\n",
    "        if Jn[i] == k:\n",
    "            val += HDN[i]\n",
    "    return  val"
   ]
  },
  {
   "cell_type": "code",
   "execution_count": 13,
   "metadata": {},
   "outputs": [
    {
     "data": {
      "text/plain": [
       "array([matrix([[0., 1., 0., ..., 0., 0., 0.],\n",
       "               [0., 0., 0., ..., 0., 0., 0.],\n",
       "               [0., 0., 0., ..., 0., 0., 0.],\n",
       "               ...,\n",
       "               [0., 0., 0., ..., 0., 0., 0.],\n",
       "               [0., 0., 0., ..., 0., 0., 1.],\n",
       "               [0., 0., 0., ..., 0., 0., 0.]]),\n",
       "       matrix([[0., 0., 1., ..., 0., 0., 0.],\n",
       "               [0., 0., 0., ..., 0., 0., 0.],\n",
       "               [0., 0., 0., ..., 0., 0., 0.],\n",
       "               ...,\n",
       "               [0., 0., 0., ..., 0., 0., 1.],\n",
       "               [0., 0., 0., ..., 0., 0., 0.],\n",
       "               [0., 0., 0., ..., 0., 0., 0.]]),\n",
       "       matrix([[0., 0., 0., ..., 0., 0., 0.],\n",
       "               [0., 0., 0., ..., 0., 0., 0.],\n",
       "               [0., 0., 0., ..., 0., 0., 0.],\n",
       "               ...,\n",
       "               [0., 0., 0., ..., 0., 0., 0.],\n",
       "               [0., 0., 0., ..., 0., 0., 0.],\n",
       "               [0., 0., 0., ..., 0., 0., 0.]]),\n",
       "       matrix([[0., 0., 0., ..., 0., 0., 0.],\n",
       "               [0., 0., 0., ..., 0., 0., 0.],\n",
       "               [0., 0., 0., ..., 0., 0., 0.],\n",
       "               ...,\n",
       "               [0., 0., 0., ..., 0., 0., 0.],\n",
       "               [0., 0., 0., ..., 0., 0., 0.],\n",
       "               [0., 0., 0., ..., 0., 0., 0.]]),\n",
       "       matrix([[0., 0., 0., ..., 0., 0., 0.],\n",
       "               [0., 0., 0., ..., 0., 0., 0.],\n",
       "               [0., 0., 0., ..., 0., 0., 0.],\n",
       "               ...,\n",
       "               [0., 0., 0., ..., 0., 0., 0.],\n",
       "               [0., 0., 0., ..., 0., 0., 0.],\n",
       "               [0., 0., 0., ..., 0., 0., 0.]]),\n",
       "       matrix([[0., 0., 0., ..., 0., 0., 0.],\n",
       "               [0., 0., 0., ..., 0., 0., 0.],\n",
       "               [0., 0., 0., ..., 0., 0., 0.],\n",
       "               ...,\n",
       "               [0., 0., 0., ..., 0., 0., 0.],\n",
       "               [0., 0., 0., ..., 0., 0., 0.],\n",
       "               [0., 0., 0., ..., 0., 0., 0.]]),\n",
       "       matrix([[0., 0., 0., ..., 0., 0., 0.],\n",
       "               [0., 0., 0., ..., 0., 0., 0.],\n",
       "               [0., 0., 0., ..., 0., 0., 0.],\n",
       "               ...,\n",
       "               [0., 0., 0., ..., 0., 0., 0.],\n",
       "               [0., 0., 0., ..., 0., 0., 0.],\n",
       "               [0., 0., 0., ..., 0., 0., 0.]]),\n",
       "       matrix([[0., 0., 0., ..., 0., 0., 0.],\n",
       "               [0., 0., 0., ..., 0., 0., 0.],\n",
       "               [0., 0., 0., ..., 0., 0., 0.],\n",
       "               ...,\n",
       "               [0., 0., 0., ..., 0., 0., 0.],\n",
       "               [0., 0., 0., ..., 0., 0., 0.],\n",
       "               [0., 0., 0., ..., 0., 0., 0.]]),\n",
       "       matrix([[0., 0., 0., ..., 0., 0., 0.],\n",
       "               [0., 0., 0., ..., 0., 0., 0.],\n",
       "               [0., 0., 0., ..., 0., 0., 0.],\n",
       "               ...,\n",
       "               [0., 0., 0., ..., 0., 0., 0.],\n",
       "               [0., 0., 0., ..., 0., 0., 0.],\n",
       "               [0., 0., 0., ..., 0., 0., 0.]]),\n",
       "       matrix([[0., 0., 0., ..., 0., 0., 0.],\n",
       "               [0., 0., 0., ..., 0., 0., 0.],\n",
       "               [0., 0., 0., ..., 0., 0., 0.],\n",
       "               ...,\n",
       "               [0., 0., 0., ..., 0., 0., 0.],\n",
       "               [0., 0., 0., ..., 0., 0., 0.],\n",
       "               [0., 0., 0., ..., 0., 0., 0.]]),\n",
       "       matrix([[0., 0., 0., ..., 0., 0., 0.],\n",
       "               [0., 0., 0., ..., 0., 0., 0.],\n",
       "               [0., 0., 0., ..., 0., 0., 0.],\n",
       "               ...,\n",
       "               [0., 0., 0., ..., 0., 0., 0.],\n",
       "               [0., 0., 0., ..., 0., 0., 0.],\n",
       "               [0., 0., 0., ..., 0., 0., 0.]]),\n",
       "       matrix([[0., 0., 0., ..., 0., 0., 0.],\n",
       "               [0., 0., 0., ..., 0., 0., 0.],\n",
       "               [0., 0., 0., ..., 0., 0., 0.],\n",
       "               ...,\n",
       "               [0., 0., 0., ..., 0., 0., 0.],\n",
       "               [0., 0., 0., ..., 0., 0., 0.],\n",
       "               [0., 0., 0., ..., 0., 0., 0.]])], dtype=object)"
      ]
     },
     "execution_count": 13,
     "metadata": {},
     "output_type": "execute_result"
    }
   ],
   "source": [
    "nHDN = 12\n",
    "E_11 = np.matrix([[0, 1], [0, 0]],dtype=float)\n",
    "I_2 = np.eye(2)\n",
    "HDN = np.empty(nHDN,dtype=object)\n",
    "for i in range(nHDN):\n",
    "    HDN[i] = 1\n",
    "    for j in range(nHDN):\n",
    "        if j==nHDN-i-1:\n",
    "            HDN[i] = np.kron(HDN[i],E_11)\n",
    "        else:\n",
    "            HDN[i] = np.kron(HDN[i],I_2)\n",
    "\n",
    "HDN"
   ]
  },
  {
   "cell_type": "code",
   "execution_count": 14,
   "metadata": {},
   "outputs": [
    {
     "name": "stdout",
     "output_type": "stream",
     "text": [
      "[array([[0., 1., 0., 0., 0., 0., 0., 0.],\n",
      "        [0., 0., 0., 0., 0., 0., 0., 0.],\n",
      "        [0., 0., 0., 1., 0., 0., 0., 0.],\n",
      "        [0., 0., 0., 0., 0., 0., 0., 0.],\n",
      "        [0., 0., 0., 0., 0., 1., 0., 0.],\n",
      "        [0., 0., 0., 0., 0., 0., 0., 0.],\n",
      "        [0., 0., 0., 0., 0., 0., 0., 1.],\n",
      "        [0., 0., 0., 0., 0., 0., 0., 0.]])\n",
      " array([[0., 0., 1., 0., 0., 0., 0., 0.],\n",
      "        [0., 0., 0., 1., 0., 0., 0., 0.],\n",
      "        [0., 0., 0., 0., 0., 0., 0., 0.],\n",
      "        [0., 0., 0., 0., 0., 0., 0., 0.],\n",
      "        [0., 0., 0., 0., 0., 0., 1., 0.],\n",
      "        [0., 0., 0., 0., 0., 0., 0., 1.],\n",
      "        [0., 0., 0., 0., 0., 0., 0., 0.],\n",
      "        [0., 0., 0., 0., 0., 0., 0., 0.]])\n",
      " array([[0., 0., 0., 0., 1., 0., 0., 0.],\n",
      "        [0., 0., 0., 0., 0., 1., 0., 0.],\n",
      "        [0., 0., 0., 0., 0., 0., 1., 0.],\n",
      "        [0., 0., 0., 0., 0., 0., 0., 1.],\n",
      "        [0., 0., 0., 0., 0., 0., 0., 0.],\n",
      "        [0., 0., 0., 0., 0., 0., 0., 0.],\n",
      "        [0., 0., 0., 0., 0., 0., 0., 0.],\n",
      "        [0., 0., 0., 0., 0., 0., 0., 0.]])]\n"
     ]
    }
   ],
   "source": [
    "import numpy as np\n",
    "from functools import reduce\n",
    "\n",
    "nHDN = 3\n",
    "E_11 = np.array([[0, 1], [0, 0]], dtype=float)\n",
    "I_2 = np.eye(2)\n",
    "\n",
    "# 初期化\n",
    "HDN = np.empty(nHDN, dtype=object)\n",
    "\n",
    "# 高速な行列演算を利用して HDN を生成\n",
    "for i in range(nHDN):\n",
    "    kron_list = [E_11 if j == nHDN - i - 1 else I_2 for j in range(nHDN)]\n",
    "    HDN[i] = reduce(np.kron, kron_list)\n",
    "\n",
    "print(HDN)"
   ]
  },
  {
   "cell_type": "code",
   "execution_count": 15,
   "metadata": {},
   "outputs": [
    {
     "name": "stdout",
     "output_type": "stream",
     "text": [
      "[[0. 0.]\n",
      " [0. 0.]]\n"
     ]
    }
   ],
   "source": [
    "import numpy as np\n",
    "\n",
    "nHDN = 2\n",
    "E_11 = np.array([[0, 1], [0, 0]], dtype=float)\n",
    "I_2 = np.eye(2)\n",
    "\n",
    "# 行列のリストを作成\n",
    "kron_list = [E_11 if j == nHDN - i - 1 else I_2 for i in range(nHDN) for j in range(nHDN)]\n",
    "\n",
    "# 高速な行列演算を利用して HDN を生成\n",
    "HDN = np.linalg.multi_dot(kron_list[::-1])\n",
    "\n",
    "# 必要であれば、HDN を出力する\n",
    "print(HDN)\n"
   ]
  },
  {
   "cell_type": "markdown",
   "metadata": {},
   "source": [
    "$f(x)=sin(x)$の$x=0$での高階微分値の計算"
   ]
  },
  {
   "cell_type": "code",
   "execution_count": 23,
   "metadata": {},
   "outputs": [
    {
     "data": {
      "text/plain": [
       "array([[0., 1., 1., 0., 1., 0., 0., 0.],\n",
       "       [0., 0., 0., 1., 0., 1., 0., 0.],\n",
       "       [0., 0., 0., 1., 0., 0., 1., 0.],\n",
       "       [0., 0., 0., 0., 0., 0., 0., 1.],\n",
       "       [0., 0., 0., 0., 0., 1., 1., 0.],\n",
       "       [0., 0., 0., 0., 0., 0., 0., 1.],\n",
       "       [0., 0., 0., 0., 0., 0., 0., 1.],\n",
       "       [0., 0., 0., 0., 0., 0., 0., 0.]])"
      ]
     },
     "execution_count": 23,
     "metadata": {},
     "output_type": "execute_result"
    }
   ],
   "source": [
    "HDN,ID\n",
    "np.sum(HDN,axis=0)"
   ]
  },
  {
   "cell_type": "code",
   "execution_count": 20,
   "metadata": {},
   "outputs": [
    {
     "name": "stdout",
     "output_type": "stream",
     "text": [
      "0 -derivative(s)= 0.0\n",
      "1 -derivative(s)= 1.1666666666666667\n",
      "2 -derivative(s)= 0.0\n",
      "3 -derivative(s)= 0.0\n"
     ]
    }
   ],
   "source": [
    "# 微分階数 (超双対数の次数)\n",
    "n = 3\n",
    "\n",
    "#　初期設定 (超双対数単位の構成)\n",
    "Setting(n)\n",
    "\n",
    "# 関数の定義\n",
    "def Func(x):\n",
    "    return Hsin(Hini(x))\n",
    "\n",
    "# value\n",
    "x = 0\n",
    "\n",
    "\n",
    "# 4th derivatives of Func on x\n",
    "for i in range(n+1):\n",
    "    print(i,\"-derivative(s)=\",Deriv(Func(x),i))"
   ]
  },
  {
   "cell_type": "markdown",
   "metadata": {},
   "source": [
    "# 付録Bの例\n",
    "\n",
    "$f(x)=e^{\\cos(x_1)+x_2^2}$の二階偏微分$\\partial_1\\partial_2 f(x)$の計算"
   ]
  },
  {
   "cell_type": "code",
   "execution_count": 17,
   "metadata": {},
   "outputs": [
    {
     "data": {
      "text/plain": [
       "array([array([[0., 1., 0., 0.],\n",
       "              [0., 0., 0., 0.],\n",
       "              [0., 0., 0., 1.],\n",
       "              [0., 0., 0., 0.]]), array([[0., 0., 1., 0.],\n",
       "                                         [0., 0., 0., 1.],\n",
       "                                         [0., 0., 0., 0.],\n",
       "                                         [0., 0., 0., 0.]])], dtype=object)"
      ]
     },
     "execution_count": 17,
     "metadata": {},
     "output_type": "execute_result"
    }
   ],
   "source": [
    "Setting(2)\n",
    "HDN"
   ]
  },
  {
   "cell_type": "code",
   "execution_count": 18,
   "metadata": {},
   "outputs": [
    {
     "name": "stdout",
     "output_type": "stream",
     "text": [
      "0 -derivative(s)= 0.0\n",
      "1 -derivative(s)= 1.0\n",
      "2 -derivative(s)= 0.0\n"
     ]
    }
   ],
   "source": [
    "# 微分階数 (超双対数の次数)\n",
    "n = 2\n",
    "\n",
    "#　初期設定 (超双対数単位の構成)\n",
    "Setting(n)\n",
    "\n",
    "## One-variable function ##\n",
    "# f(x) = exp(sin(sqrt(x)+3*x))*log(cos^2(x)+0.5)\n",
    "def Func(x):\n",
    "    #return prod(Hexp(Hsin(Hpow(Hini(x),1/2)+3.*Hini(x))),Hlog(Hpow(Hcos(Hini(x)),2)+0.5*const()))\n",
    "    return Hsin(Hini(x))\n",
    "\n",
    "# value\n",
    "x = 0\n",
    "\n",
    "\n",
    "# 4th derivatives of Func on x\n",
    "for i in range(n+1):\n",
    "    print(i,\"-derivative(s)=\",Deriv(Func(x),i))"
   ]
  },
  {
   "cell_type": "code",
   "execution_count": 19,
   "metadata": {},
   "outputs": [
    {
     "name": "stdout",
     "output_type": "stream",
     "text": [
      "0 -partial derivative(s)= -0.2520792083298674\n",
      "1 -partial derivative(s)= 0.07323225947950249\n",
      "2 -partial derivative(s)= 0.0\n",
      "3 -partial derivative(s)= 0.0\n",
      "4 -partial derivative(s)= 0.0\n",
      "5 -partial derivative(s)= 0.0\n",
      "6 -partial derivative(s)= 0.0\n",
      "7 -partial derivative(s)= 0.0\n",
      "8 -partial derivative(s)= 0.0\n",
      "9 -partial derivative(s)= 0.0\n",
      "10 -partial derivative(s)= 0.0\n"
     ]
    }
   ],
   "source": [
    "## Multi-variables function ##\n",
    "# multi-index for partial derivative\n",
    "Jn = [0,0,1,2,2,0,0,1,2,2] # ∂x0∂x0∂x1∂x2∂x2∂x0∂x0∂x1∂x2∂x2\n",
    "n = len(Jn)\n",
    "Setting(n)\n",
    "\n",
    "\n",
    "# f(x0,x1,x2) = exp(sin(sqrt(x0)+3*x1))*log(cos^2(x2)+0.5)\n",
    "def MultiFunc(x0,x1,x2):\n",
    "    return prod(Hexp(Hsin(Hpow(HiniMult(x0,0,Jn),1/2)+3.*HiniMult(x1,1,Jn))),Hlog(Hpow(Hcos(HiniMult(x2,2,Jn)),2)+0.5*const()))\n",
    "\n",
    "\n",
    "# values\n",
    "x0 = 0.5*math.pi\n",
    "x1 = 0.25*math.pi\n",
    "x2 = 2.\n",
    "\n",
    "\n",
    "# 4th partial derivatives of MultiFunc on (x0,x1,x2)\n",
    "for i in range(n+1):\n",
    "    print(i,\"-partial derivative(s)=\",Deriv(MultiFunc(x0,x1,x2),i))\n"
   ]
  },
  {
   "cell_type": "code",
   "execution_count": null,
   "metadata": {},
   "outputs": [],
   "source": []
  }
 ],
 "metadata": {
  "kernelspec": {
   "display_name": "Python 3",
   "language": "python",
   "name": "python3"
  },
  "language_info": {
   "codemirror_mode": {
    "name": "ipython",
    "version": 3
   },
   "file_extension": ".py",
   "mimetype": "text/x-python",
   "name": "python",
   "nbconvert_exporter": "python",
   "pygments_lexer": "ipython3",
   "version": "3.9.13"
  }
 },
 "nbformat": 4,
 "nbformat_minor": 4
}
